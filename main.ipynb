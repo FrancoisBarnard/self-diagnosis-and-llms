{
 "cells": [
  {
   "attachments": {},
   "cell_type": "markdown",
   "metadata": {},
   "source": [
    "#### Imports"
   ]
  },
  {
   "cell_type": "code",
   "execution_count": null,
   "metadata": {},
   "outputs": [],
   "source": [
    "import csv\n",
    "import time\n",
    "import openai\n",
    "import pandas as pd"
   ]
  },
  {
   "attachments": {},
   "cell_type": "markdown",
   "metadata": {},
   "source": [
    "#### Read in Excel data"
   ]
  },
  {
   "cell_type": "code",
   "execution_count": null,
   "metadata": {},
   "outputs": [],
   "source": [
    "data = pd.read_excel('chat_prompts.xlsx')\n",
    "data = data.fillna('')"
   ]
  },
  {
   "attachments": {},
   "cell_type": "markdown",
   "metadata": {},
   "source": [
    "#### Load API Key and run prompts"
   ]
  },
  {
   "cell_type": "code",
   "execution_count": null,
   "metadata": {},
   "outputs": [],
   "source": [
    "openai.api_key = \"<your api key>\"\n",
    "\n",
    "tests = [\n",
    "    \"usmle_1_q\",\n",
    "    \"usmle_2_q\"\n",
    "]\n",
    "\n",
    "test_answers = [\n",
    "    \"usmle_1_a\",\n",
    "    \"usmle_2_a\"\n",
    "]\n",
    "\n",
    "for item, test in enumerate(tests):\n",
    "    for idx, row in enumerate(data.itertuples()):\n",
    "        if idx >= 50:\n",
    "            break\n",
    "        with open(\"results.csv\", mode='a', encoding='UTF8') as file:\n",
    "            writer = csv.writer(file)\n",
    "            csv_out = []\n",
    "            csv_out.append(idx)\n",
    "\n",
    "            prompt = getattr(row, test)\n",
    "\n",
    "            output = openai.Completion.create(\n",
    "                model=\"text-davinci-003\",\n",
    "                prompt=f\"Including an explanation, answer the following question: {prompt}\",\n",
    "                max_tokens=2048,\n",
    "                n=1,\n",
    "                stop=None,\n",
    "                temperature=0,\n",
    "                top_p=1,\n",
    "                frequency_penalty=0,\n",
    "                presence_penalty=0\n",
    "            )\n",
    "\n",
    "            gpt_ans = output.choices[0].text\n",
    "            gpt_ans = \" \".join(gpt_ans.splitlines())\n",
    "            data.at[idx, str(test_answers[item])] = gpt_ans\n",
    "            csv_out.append(gpt_ans)\n",
    "\n",
    "            writer.writerow(csv_out)\n",
    "            print(f\"Finished question {idx} for {test}\")\n",
    "            time.sleep(4)\n",
    "\n",
    "    data.to_excel(f\"output_results_{test}.xlsx\") "
   ]
  }
 ],
 "metadata": {
  "language_info": {
   "name": "python"
  },
  "orig_nbformat": 4
 },
 "nbformat": 4,
 "nbformat_minor": 2
}
